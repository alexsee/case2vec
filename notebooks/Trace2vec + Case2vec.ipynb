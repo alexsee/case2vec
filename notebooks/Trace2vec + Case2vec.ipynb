{
 "cells": [
  {
   "cell_type": "markdown",
   "metadata": {},
   "source": [
    "# Case2vec: Advances in Representation Learning for Business Processes"
   ]
  },
  {
   "cell_type": "code",
   "execution_count": null,
   "metadata": {},
   "outputs": [],
   "source": [
    "import numpy as np\n",
    "import pandas as pd\n",
    "\n",
    "from replearn.eventlog import EventLog\n",
    "from replearn.doc2vec import Doc2VecRepresentation\n",
    "\n",
    "from replearn.clustering import Clustering"
   ]
  },
  {
   "cell_type": "markdown",
   "metadata": {},
   "source": [
    "## Load event log"
   ]
  },
  {
   "cell_type": "code",
   "execution_count": null,
   "metadata": {},
   "outputs": [],
   "source": [
    "# event log configuration\n",
    "event_log_path = '../logs/'\n",
    "file_name = 'BPIC19GroundTruth.xes'\n",
    "\n",
    "case_attributes = [] # auto-detect attributes\n",
    "event_attributes = ['concept:name', 'org:resource'] # use activity name and user\n",
    "true_cluster_label = 'cluster:label'\n",
    "\n",
    "# load file\n",
    "event_log = EventLog(file_name, case_attributes=case_attributes, event_attributes=event_attributes, true_cluster_label=true_cluster_label)\n",
    "event_log.load(event_log_path + '/' + file_name, False)\n",
    "event_log.preprocess()"
   ]
  },
  {
   "cell_type": "markdown",
   "metadata": {},
   "source": [
    "## Representation Learning"
   ]
  },
  {
   "cell_type": "code",
   "execution_count": null,
   "metadata": {},
   "outputs": [],
   "source": [
    "# hyperparameters\n",
    "n_epochs = 10\n",
    "n_batch_size = 64\n",
    "n_clusters = 5\n",
    "\n",
    "vector_size = 32"
   ]
  },
  {
   "cell_type": "markdown",
   "metadata": {},
   "source": [
    "### Trace2vec"
   ]
  },
  {
   "cell_type": "code",
   "execution_count": null,
   "metadata": {},
   "outputs": [],
   "source": [
    "doc2vec = Doc2VecRepresentation(event_log)\n",
    "doc2vec.build_model(append_case_attr=False, append_event_attr=False, vector_size=vector_size, concat=True, epochs=n_epochs)\n",
    "doc2vec.fit()"
   ]
  },
  {
   "cell_type": "code",
   "execution_count": null,
   "metadata": {},
   "outputs": [],
   "source": [
    "# infer the vector from the model\n",
    "feature_vector = doc2vec.predict(epochs=50)"
   ]
  },
  {
   "cell_type": "code",
   "execution_count": null,
   "metadata": {},
   "outputs": [],
   "source": [
    "# cluster feature vector\n",
    "cluster_analysis = Clustering(event_log)\n",
    "cluster_analysis.cluster(feature_vector, 'agglomerative', n_clusters, 'cosine')\n",
    "\n",
    "cluster_result = cluster_analysis.evaluate()"
   ]
  },
  {
   "cell_type": "code",
   "execution_count": null,
   "metadata": {},
   "outputs": [],
   "source": [
    "print('Adjusted Rand Index: ' + str(cluster_result[0]))\n",
    "print('Normalized Mutual Information: ' + str(cluster_result[1]))\n",
    "print('F1-BCubed: ' + str(cluster_result[2]))"
   ]
  },
  {
   "cell_type": "markdown",
   "metadata": {},
   "source": [
    "### Case2vec (event)"
   ]
  },
  {
   "cell_type": "code",
   "execution_count": null,
   "metadata": {},
   "outputs": [],
   "source": [
    "# train doc2vec model\n",
    "doc2vec = Doc2VecRepresentation(event_log)\n",
    "doc2vec.build_model(append_case_attr=False, append_event_attr=True, vector_size=vector_size, concat=True, epochs=n_epochs)\n",
    "doc2vec.fit()"
   ]
  },
  {
   "cell_type": "code",
   "execution_count": null,
   "metadata": {},
   "outputs": [],
   "source": [
    "# infer the vector from the model\n",
    "feature_vector = doc2vec.predict(epochs=50)"
   ]
  },
  {
   "cell_type": "code",
   "execution_count": null,
   "metadata": {},
   "outputs": [],
   "source": [
    "# cluster feature vector\n",
    "cluster_analysis = Clustering(event_log)\n",
    "cluster_analysis.cluster(feature_vector, 'agglomerative', n_clusters, 'cosine')\n",
    "\n",
    "cluster_result = cluster_analysis.evaluate()"
   ]
  },
  {
   "cell_type": "code",
   "execution_count": null,
   "metadata": {},
   "outputs": [],
   "source": [
    "print('Adjusted Rand Index: ' + str(cluster_result[0]))\n",
    "print('Normalized Mutual Information: ' + str(cluster_result[1]))\n",
    "print('F1-BCubed: ' + str(cluster_result[2]))"
   ]
  },
  {
   "cell_type": "markdown",
   "metadata": {},
   "source": [
    "### Case2vec (event+case)"
   ]
  },
  {
   "cell_type": "code",
   "execution_count": null,
   "metadata": {},
   "outputs": [],
   "source": [
    "# case attribute is encoded as an event attribute in this event log\n",
    "event_attributes = ['concept:name', 'org:resource', '(case)_Responsible_Actor']\n",
    "\n",
    "doc2vec = Doc2VecRepresentation(event_log)\n",
    "doc2vec.build_model(append_case_attr=True, append_event_attr=True, vector_size=vector_size, concat=True, epochs=n_epochs)\n",
    "doc2vec.fit()"
   ]
  },
  {
   "cell_type": "code",
   "execution_count": null,
   "metadata": {},
   "outputs": [],
   "source": [
    "# infer the vector from the model\n",
    "feature_vector = doc2vec.predict(epochs=50)"
   ]
  },
  {
   "cell_type": "code",
   "execution_count": null,
   "metadata": {},
   "outputs": [],
   "source": [
    "# cluster feature vector\n",
    "cluster_analysis = Clustering(event_log)\n",
    "cluster_analysis.cluster(feature_vector, 'agglomerative', n_clusters, 'cosine')\n",
    "\n",
    "cluster_result = cluster_analysis.evaluate()"
   ]
  },
  {
   "cell_type": "code",
   "execution_count": null,
   "metadata": {},
   "outputs": [],
   "source": [
    "print('Adjusted Rand Index: ' + str(cluster_result[0]))\n",
    "print('Normalized Mutual Information: ' + str(cluster_result[1]))\n",
    "print('F1-BCubed: ' + str(cluster_result[2]))"
   ]
  },
  {
   "cell_type": "code",
   "execution_count": null,
   "metadata": {},
   "outputs": [],
   "source": []
  }
 ],
 "metadata": {
  "kernelspec": {
   "display_name": "Python 3",
   "language": "python",
   "name": "python3"
  },
  "language_info": {
   "codemirror_mode": {
    "name": "ipython",
    "version": 3
   },
   "file_extension": ".py",
   "mimetype": "text/x-python",
   "name": "python",
   "nbconvert_exporter": "python",
   "pygments_lexer": "ipython3",
   "version": "3.6.7"
  }
 },
 "nbformat": 4,
 "nbformat_minor": 4
}
